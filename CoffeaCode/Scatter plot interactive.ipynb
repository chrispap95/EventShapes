{
 "cells": [
  {
   "cell_type": "code",
   "execution_count": 1,
   "id": "ef29e675",
   "metadata": {
    "scrolled": true
   },
   "outputs": [
    {
     "name": "stdout",
     "output_type": "stream",
     "text": [
      "/Users/chrispap/.pyenv/versions/3.9.5/bin/python3.9\n",
      "3.9.5\n"
     ]
    }
   ],
   "source": [
    "from platform import python_version\n",
    "import sys\n",
    "\n",
    "print(sys.executable)\n",
    "print(python_version())"
   ]
  },
  {
   "cell_type": "code",
   "execution_count": 2,
   "id": "4c4eaeb6",
   "metadata": {},
   "outputs": [],
   "source": [
    "import numpy as np\n",
    "import awkward as ak\n",
    "import uproot\n",
    "from coffea.nanoevents import NanoEventsFactory, TreeMakerSchema, BaseSchema\n",
    "from coffea import processor\n",
    "from coffea.nanoevents.methods import candidate\n",
    "import matplotlib.pyplot as plt\n",
    "import mplhep\n",
    "import hist\n",
    "from hist import Hist\n",
    "\n",
    "plt.style.use(mplhep.style.ROOT)\n",
    "ak.behavior.update(candidate.behavior)\n",
    "\n",
    "%load_ext line_profiler"
   ]
  },
  {
   "cell_type": "markdown",
   "id": "4359fd07",
   "metadata": {},
   "source": []
  },
  {
   "cell_type": "code",
   "execution_count": 3,
   "id": "25c54ddf",
   "metadata": {},
   "outputs": [],
   "source": [
    "def sphericityTensor(particles):\n",
    "    particles_p = np.sqrt(particles.x * particles.x + particles.y * particles.y + particles.z * particles.z)\n",
    "    norm = ak.sum(particles_p * particles_p, axis=1)\n",
    "    s = np.array(\n",
    "        [\n",
    "            [\n",
    "                ak.sum(particles.x * particles.x, axis=1)/norm,\n",
    "                ak.sum(particles.x * particles.y, axis=1)/norm,\n",
    "                ak.sum(particles.x * particles.z, axis=1)/norm\n",
    "            ],\n",
    "            [\n",
    "                ak.sum(particles.y * particles.x, axis=1)/norm,\n",
    "                ak.sum(particles.y * particles.y, axis=1)/norm,\n",
    "                ak.sum(particles.y * particles.z, axis=1)/norm\n",
    "            ],\n",
    "            [\n",
    "                ak.sum(particles.z * particles.x, axis=1)/norm,\n",
    "                ak.sum(particles.z * particles.y, axis=1)/norm,\n",
    "                ak.sum(particles.z * particles.z, axis=1)/norm\n",
    "            ]\n",
    "        ]\n",
    "    )\n",
    "        \n",
    "    return s\n",
    "\n",
    "def sphericity(s):\n",
    "    s_eigvalues = np.sort(np.linalg.eigvals(np.moveaxis(s, 2, 0)))\n",
    "    sphericity = 1.5*(s_eigvalues[:,0]+s_eigvalues[:,1])\n",
    "    return sphericity"
   ]
  },
  {
   "cell_type": "code",
   "execution_count": 4,
   "id": "1d4b615e",
   "metadata": {
    "scrolled": true
   },
   "outputs": [],
   "source": [
    "baseDir = '/Users/chrispap/QCD/ak15/QCD/'\n",
    "fname = baseDir + 'Autumn18.QCD_HT1000to1500_TuneCP5_13TeV-madgraphMLM-pythia8_0_RA2AnalysisTree.root'\n",
    "events = NanoEventsFactory.from_root(fname, \n",
    "                                     treepath='TreeMaker2/PreSelection', \n",
    "                                     schemaclass=TreeMakerSchema, \n",
    "                                     entry_stop=10000).events()\n",
    "\n",
    "histo = (\n",
    "     Hist.new\n",
    "    .Reg(50, 0, 250, name=\"nTracks\")\n",
    "    .Reg(50, 0, 1, name=\"sphericity\")\n",
    "    .Weight()\n",
    ")\n",
    "\n",
    "integratedLuminosity = 137.19*1000 # fb^{-1} to pb^{-1}\n",
    "        \n",
    "ht = events.HT\n",
    "htRequirement = ht > 1200\n",
    "weights = integratedLuminosity*events.CrossSection[htRequirement]/len(events)\n",
    "tracks = events.Tracks[htRequirement]\n",
    "tracks_pt = np.sqrt(tracks.x**2 + tracks.y**2)\n",
    "tracks_eta = np.arcsinh(tracks.z / tracks_pt)\n",
    "tracks_phi = np.arctan2(tracks.y, tracks.x)\n",
    "tracks_mass = 0.13957*(tracks_pt > 0)\n",
    "tracks_qualityMask = (tracks_pt > 1) & (abs(tracks_eta) < 2.5) & \\\n",
    "                     (tracks.fromPV0 >= 2) & tracks.matchedToPFCandidate"
   ]
  },
  {
   "cell_type": "markdown",
   "id": "96e38f72",
   "metadata": {},
   "source": [
    "Make AK15 jets"
   ]
  },
  {
   "cell_type": "code",
   "execution_count": 5,
   "id": "a75407ee",
   "metadata": {},
   "outputs": [],
   "source": [
    "JetsAK15 = ak.zip(\n",
    "    {\n",
    "        \"pt\": events.JetsAK15.pt,\n",
    "        \"eta\": events.JetsAK15.eta,\n",
    "        \"phi\": events.JetsAK15.phi,\n",
    "        \"mass\": events.JetsAK15.mass,\n",
    "        \"chMult\": events.JetsAK15.chargedMultiplicity\n",
    "    },\n",
    "    with_name=\"PtEtaPhiMCandidate\",\n",
    "    behavior=candidate.behavior,\n",
    ")\n",
    "JetsAK15 = JetsAK15[htRequirement]\n",
    "JetsAK15 = JetsAK15[JetsAK15.pt > 200]\n",
    "JetsAK15 = JetsAK15[:,:2]\n",
    "suepJets = JetsAK15[ak.argsort(JetsAK15.chMult, ascending=False)][:,0]"
   ]
  },
  {
   "cell_type": "code",
   "execution_count": 6,
   "id": "e1d907f2",
   "metadata": {
    "scrolled": true
   },
   "outputs": [
    {
     "data": {
      "text/plain": [
       "<Array [[30, 20], [32, 36, ... 38], [29, 50]] type='2777 * var * int32[parameter...'>"
      ]
     },
     "execution_count": 6,
     "metadata": {},
     "output_type": "execute_result"
    }
   ],
   "source": [
    "JetsAK15.chMult"
   ]
  },
  {
   "cell_type": "code",
   "execution_count": 7,
   "id": "67fb7301",
   "metadata": {},
   "outputs": [
    {
     "data": {
      "text/plain": [
       "<Array [30, 36, 42, 49, 43, ... 61, 62, 59, 50] type='2777 * int32[parameters={\"...'>"
      ]
     },
     "execution_count": 7,
     "metadata": {},
     "output_type": "execute_result"
    }
   ],
   "source": [
    "suepJets.chMult"
   ]
  },
  {
   "cell_type": "markdown",
   "id": "303099aa",
   "metadata": {},
   "source": [
    "Get the boost vector"
   ]
  },
  {
   "cell_type": "code",
   "execution_count": 8,
   "id": "991d725c",
   "metadata": {
    "scrolled": true
   },
   "outputs": [
    {
     "data": {
      "text/plain": [
       "<ThreeVectorArray [{x: 0.313, y: -0.933, ... z: 0.384}] type='2777 * ThreeVector...'>"
      ]
     },
     "execution_count": 8,
     "metadata": {},
     "output_type": "execute_result"
    }
   ],
   "source": [
    "beta = suepJets.pvec/suepJets.energy\n",
    "beta"
   ]
  },
  {
   "cell_type": "markdown",
   "id": "218426d6",
   "metadata": {},
   "source": [
    "Sanity check"
   ]
  },
  {
   "cell_type": "code",
   "execution_count": 9,
   "id": "95182b78",
   "metadata": {
    "scrolled": true
   },
   "outputs": [
    {
     "data": {
      "text/html": [
       "<html>\n",
       "<div style=\"display:flex; align-items:center;\">\n",
       "<div style=\"width:290px;\">\n",
       "<svg xmlns=\"http://www.w3.org/2000/svg\" viewBox=\"-10 -105 270 120\">\n",
       "<line x1=\"-5\" y1=\"0\" x2=\"255\" y2=\"0\" style=\"fill:none;stroke-width:2;stroke:currentColor\"/>\n",
       "<text text-anchor=\"middle\" x=\"0\" y=\"15\" style=\"fill:currentColor;\">\n",
       "0.5\n",
       "</text>\n",
       "<text text-anchor=\"middle\" x=\"250\" y=\"15\" style=\"fill:currentColor;\">\n",
       "1\n",
       "</text>\n",
       "<text text-anchor=\"middle\" x=\"125.0\" y=\"15\" style=\"fill:currentColor;\">\n",
       "beta\n",
       "</text>\n",
       "<polyline points=\"  0,0   0,-0   5,-0   5,-0  10,-0  10,-0  15,-0  15,-0  20,-0  20,-0  25,-0  25,-0  30,-0  30,-0  35,-0  35,-0  40,-0  40,-0  45,-0  45,-0  50,-0  50,-0  55,-0  55,-0  60,-0  60,-0  65,-0  65,-0  70,-0  70,-0  75,-0  75,-0  80,-0  80,-0  85,-0  85,-0  90,-0  90,-0.217  95,-0.217  95,-0.217 100,-0.217 100,-0.217 105,-0.217 105,-0.435 110,-0.435 110,-0.87 115,-0.87 115,-0.652 120,-0.652 120,-0.87 125,-0.87 125,-1.74 130,-1.74 130,-1.52 135,-1.52 135,-1.96 140,-1.96 140,-2.61 145,-2.61 145,-2.61 150,-2.61 150,-3.7 155,-3.7 155,-3.7 160,-3.7 160,-2.61 165,-2.61 165,-3.91 170,-3.91 170,-6.09 175,-6.09 175,-10.4 180,-10.4 180,-8.91 185,-8.91 185,-10 190,-10 190,-14.8 195,-14.8 195,-15.4 200,-15.4 200,-16.5 205,-16.5 205,-22.2 210,-22.2 210,-24.3 215,-24.3 215,-33.5 220,-33.5 220,-39.1 225,-39.1 225,-50.9 230,-50.9 230,-68.5 235,-68.5 235,-79.1 240,-79.1 240,-100 245,-100 245,-76.1 250,-76.1 250,0\" style=\"fill:none; stroke:currentColor;\"/>\n",
       "</svg>\n",
       "</div>\n",
       "<div style=\"flex=grow:1;\">\n",
       "Regular(50, 0.5, 1, name='beta', label='beta')<br/>\n",
       "<hr style=\"margin-top:.2em; margin-bottom:.2em;\"/>\n",
       "Double() Σ=2777.0\n",
       "\n",
       "</div>\n",
       "</div>\n",
       "</html>"
      ],
      "text/plain": [
       "Hist(Regular(50, 0.5, 1, name='beta', label='beta'), storage=Double()) # Sum: 2777.0"
      ]
     },
     "execution_count": 9,
     "metadata": {},
     "output_type": "execute_result"
    }
   ],
   "source": [
    "betaMag = np.sqrt(beta.x**2+beta.y**2+beta.z**2)\n",
    "histBeta = (\n",
    "     Hist.new\n",
    "    .Reg(50, 0.5, 1, name=\"beta\")\n",
    "    .Double()\n",
    "    .fill(betaMag)\n",
    ")\n",
    "histBeta"
   ]
  },
  {
   "cell_type": "markdown",
   "id": "dfd2a30c",
   "metadata": {},
   "source": [
    "Boost tracks"
   ]
  },
  {
   "cell_type": "code",
   "execution_count": 10,
   "id": "92409dc8",
   "metadata": {},
   "outputs": [],
   "source": [
    "tracks_final = ak.zip(\n",
    "    {\n",
    "        \"pt\": tracks_pt,\n",
    "        \"eta\": tracks_eta,\n",
    "        \"phi\": tracks_phi,\n",
    "        \"mass\": tracks_mass,\n",
    "        \"charge\": tracks.charge\n",
    "    },\n",
    "    with_name=\"PtEtaPhiMCandidate\",\n",
    "    behavior=candidate.behavior,\n",
    ")\n",
    "tracks_final = tracks_final[tracks_qualityMask]\n",
    "#tracks_final = tracks_final[tracks_final.delta_r(suepJets) < 1.5]\n",
    "#tracks_final = tracks_final.boost(-beta)\n",
    "\n",
    "# Calculate nTracks\n",
    "nTracks = ak.sum(tracks_final.pt > 0, axis=1)"
   ]
  },
  {
   "cell_type": "markdown",
   "id": "df6068b2",
   "metadata": {},
   "source": [
    "Calculate sphericity"
   ]
  },
  {
   "cell_type": "code",
   "execution_count": 11,
   "id": "6b717598",
   "metadata": {},
   "outputs": [],
   "source": [
    "sTensor = sphericityTensor(tracks_final)\n",
    "sph = sphericity(sTensor)\n",
    "\n",
    "histo.fill(\n",
    "    nTracks=nTracks,\n",
    "    sphericity=sph,\n",
    "    weight=weights\n",
    ")\n",
    "\n",
    "s_eigvalues = np.linalg.eigvals(np.moveaxis(sTensor, 2, 0))"
   ]
  },
  {
   "cell_type": "code",
   "execution_count": 12,
   "id": "e2c51efa",
   "metadata": {},
   "outputs": [],
   "source": [
    "%lprun -f sphericity sphericity(sTensor)"
   ]
  },
  {
   "cell_type": "code",
   "execution_count": 13,
   "id": "4cb0eea2",
   "metadata": {},
   "outputs": [
    {
     "data": {
      "text/plain": [
       "array([[9.66980612e-01, 1.19869748e-03, 3.18206902e-02],\n",
       "       [7.55327829e-01, 6.04600306e-03, 2.38626168e-01],\n",
       "       [8.29076172e-01, 1.47929738e-01, 2.29940897e-02],\n",
       "       ...,\n",
       "       [7.71450817e-01, 1.02762771e-01, 1.25786412e-01],\n",
       "       [9.92410649e-01, 7.11341988e-04, 6.87800913e-03],\n",
       "       [8.68309930e-01, 6.92312719e-03, 1.24766943e-01]])"
      ]
     },
     "execution_count": 13,
     "metadata": {},
     "output_type": "execute_result"
    }
   ],
   "source": [
    "s_eigvalues"
   ]
  },
  {
   "cell_type": "code",
   "execution_count": 14,
   "id": "6ae588bb",
   "metadata": {},
   "outputs": [
    {
     "data": {
      "text/plain": [
       "array([[1.19869748e-03, 3.18206902e-02, 9.66980612e-01],\n",
       "       [6.04600306e-03, 2.38626168e-01, 7.55327829e-01],\n",
       "       [2.29940897e-02, 1.47929738e-01, 8.29076172e-01],\n",
       "       ...,\n",
       "       [1.02762771e-01, 1.25786412e-01, 7.71450817e-01],\n",
       "       [7.11341988e-04, 6.87800913e-03, 9.92410649e-01],\n",
       "       [6.92312719e-03, 1.24766943e-01, 8.68309930e-01]])"
      ]
     },
     "execution_count": 14,
     "metadata": {},
     "output_type": "execute_result"
    }
   ],
   "source": [
    "np.sort(s_eigvalues)"
   ]
  },
  {
   "cell_type": "code",
   "execution_count": 15,
   "id": "d311044a",
   "metadata": {
    "scrolled": true
   },
   "outputs": [
    {
     "data": {
      "text/plain": [
       "<Array [{pt: 401, eta: 1.9, ... charge: 4}] type='2777 * {\"pt\": float64, \"eta\": ...'>"
      ]
     },
     "execution_count": 15,
     "metadata": {},
     "output_type": "execute_result"
    }
   ],
   "source": [
    "ak.sum(tracks_final,axis=1)"
   ]
  },
  {
   "cell_type": "code",
   "execution_count": 16,
   "id": "6aca6d59",
   "metadata": {},
   "outputs": [],
   "source": [
    "deltaR = tracks_final.delta_r(suepJets)\n",
    "def rho(jet, tracks, deltaR, dr=0.05):\n",
    "    rho_space = np.linspace(0, 1.5, int(1.5/dr)+1)\n",
    "    rho_values = []\n",
    "    for i in range(0, int(1.5/dr)):\n",
    "        ring = (deltaR > rho_space[i]) & (deltaR < rho_space[i+1])\n",
    "        if len(rho_values) == 0:\n",
    "            rho_values = ak.to_numpy(ak.sum(tracks[ring].pt, axis=1)/(dr*jet.pt))\n",
    "            rho_values = rho_values.reshape(len(rho_values),1)\n",
    "        else:\n",
    "            rho_values = np.append(rho_values, ak.to_numpy(ak.sum(tracks[ring].pt, axis=1)/(dr*jet.pt)).reshape(len(rho_values),1),1)\n",
    "    return rho_values"
   ]
  },
  {
   "cell_type": "code",
   "execution_count": 17,
   "id": "0efa480d",
   "metadata": {},
   "outputs": [],
   "source": [
    "rho_values = rho(suepJets, tracks_final, deltaR)"
   ]
  },
  {
   "cell_type": "code",
   "execution_count": 18,
   "id": "94ba85c0",
   "metadata": {},
   "outputs": [],
   "source": [
    "deltaR = tracks_final.delta_r(suepJets)"
   ]
  },
  {
   "cell_type": "code",
   "execution_count": 19,
   "id": "41667ae6",
   "metadata": {},
   "outputs": [
    {
     "data": {
      "text/plain": [
       "<Array [0.201, 1.09, 6.44, ... 0.0379, 0.14, 0] type='2777 * float64'>"
      ]
     },
     "execution_count": 19,
     "metadata": {},
     "output_type": "execute_result"
    }
   ],
   "source": [
    "ring = (deltaR > 0.0) & (deltaR < 0.05)\n",
    "rho_values = ak.sum(tracks_final[ring].pt, axis=1)/(0.05*suepJets.pt)\n",
    "rho_values"
   ]
  },
  {
   "cell_type": "code",
   "execution_count": 20,
   "id": "05354d9f",
   "metadata": {},
   "outputs": [
    {
     "data": {
      "text/plain": [
       "<Array [True, True, False, ... False, False] type='76 * bool'>"
      ]
     },
     "execution_count": 20,
     "metadata": {},
     "output_type": "execute_result"
    }
   ],
   "source": [
    "ring[2]"
   ]
  },
  {
   "cell_type": "code",
   "execution_count": 21,
   "id": "4b2d77bb",
   "metadata": {},
   "outputs": [
    {
     "data": {
      "text/html": [
       "<html>\n",
       "<div style=\"display:flex; align-items:center;\">\n",
       "<div style=\"width:290px;\">\n",
       "<svg xmlns=\"http://www.w3.org/2000/svg\" viewBox=\"-10 -105 270 120\">\n",
       "<line x1=\"-5\" y1=\"0\" x2=\"255\" y2=\"0\" style=\"fill:none;stroke-width:2;stroke:currentColor\"/>\n",
       "<text text-anchor=\"middle\" x=\"0\" y=\"15\" style=\"fill:currentColor;\">\n",
       "0\n",
       "</text>\n",
       "<text text-anchor=\"middle\" x=\"250\" y=\"15\" style=\"fill:currentColor;\">\n",
       "20\n",
       "</text>\n",
       "<text text-anchor=\"middle\" x=\"125.0\" y=\"15\" style=\"fill:currentColor;\">\n",
       "rho0\n",
       "</text>\n",
       "<polyline points=\"  0,0   0,-100   5,-100   5,-6.76  10,-6.76  10,-4.54  15,-4.54  15,-2.77  20,-2.77  20,-1.99  25,-1.99  25,-2.21  30,-2.21  30,-1.66  35,-1.66  35,-2.05  40,-2.05  40,-1.99  45,-1.99  45,-0.941  50,-0.941  50,-1.88  55,-1.88  55,-1.99  60,-1.99  60,-1.83  65,-1.83  65,-1.66  70,-1.66  70,-1.11  75,-1.11  75,-1.61  80,-1.61  80,-1.16  85,-1.16  85,-0.664  90,-0.664  90,-1.38  95,-1.38  95,-1.38 100,-1.38 100,-1.38 105,-1.38 105,-1.38 110,-1.38 110,-1.16 115,-1.16 115,-1.22 120,-1.22 120,-1.05 125,-1.05 125,-1.11 130,-1.11 130,-1.05 135,-1.05 135,-0.886 140,-0.886 140,-0.831 145,-0.831 145,-1.11 150,-1.11 150,-0.775 155,-0.775 155,-0.609 160,-0.609 160,-0.111 165,-0.111 165,-0.221 170,-0.221 170,-0.388 175,-0.388 175,-0.221 180,-0.221 180,-0.111 185,-0.111 185,-0.166 190,-0.166 190,-0 195,-0 195,-0.0554 200,-0.0554 200,-0 205,-0 205,-0.111 210,-0.111 210,-0.111 215,-0.111 215,-0.0554 220,-0.0554 220,-0 225,-0 225,-0.0554 230,-0.0554 230,-0 235,-0 235,-0 240,-0 240,-0 245,-0 245,-0 250,-0 250,0\" style=\"fill:none; stroke:currentColor;\"/>\n",
       "</svg>\n",
       "</div>\n",
       "<div style=\"flex=grow:1;\">\n",
       "Regular(50, 0, 20, name='rho0', label='rho0')<br/>\n",
       "<hr style=\"margin-top:.2em; margin-bottom:.2em;\"/>\n",
       "Double() Σ=2777.0\n",
       "\n",
       "</div>\n",
       "</div>\n",
       "</html>"
      ],
      "text/plain": [
       "Hist(Regular(50, 0, 20, name='rho0', label='rho0'), storage=Double()) # Sum: 2777.0"
      ]
     },
     "execution_count": 21,
     "metadata": {},
     "output_type": "execute_result"
    }
   ],
   "source": [
    "histrho = (\n",
    "     Hist.new\n",
    "    .Reg(50, 0, 20, name=\"rho0\")\n",
    "    .Double()\n",
    "    .fill(rho_values)\n",
    ")\n",
    "histrho\n",
    "#mplhep.histplot(histrho)\n",
    "#ax = plt.gca()\n",
    "#ax.set_yscale('log')"
   ]
  },
  {
   "cell_type": "code",
   "execution_count": 22,
   "id": "3e62417a",
   "metadata": {},
   "outputs": [
    {
     "data": {
      "image/png": "[encoded data removed]",
      "text/plain": [
       "<Figure size 936x360 with 3 Axes>"
      ]
     },
     "metadata": {
      "needs_background": "light"
     },
     "output_type": "display_data"
    }
   ],
   "source": [
    "fig, axs = plt.subplots(1, 2, figsize=(13, 5))\n",
    "mplhep.histplot(histo.project(\"nTracks\"), ax=axs[0])\n",
    "\n",
    "mplhep.hist2dplot(histo, ax=axs[1])\n",
    "\n",
    "plt.show()"
   ]
  },
  {
   "cell_type": "code",
   "execution_count": 23,
   "id": "0b71f011",
   "metadata": {},
   "outputs": [
    {
     "data": {
      "image/png": "[encoded data removed]",
      "text/plain": [
       "<Figure size 360x360 with 1 Axes>"
      ]
     },
     "metadata": {
      "needs_background": "light"
     },
     "output_type": "display_data"
    }
   ],
   "source": [
    "fig, axs = plt.subplots(1, 1, figsize=(5, 5))\n",
    "mplhep.histplot(histo.project(\"sphericity\"))\n",
    "\n",
    "plt.show()"
   ]
  },
  {
   "cell_type": "code",
   "execution_count": 49,
   "id": "d082601a",
   "metadata": {},
   "outputs": [],
   "source": [
    "def rho(number, jet, tracks, deltaR, dr=0.05):\n",
    "    r_start = number*dr\n",
    "    r_end = (number+1)*dr\n",
    "    ring = (deltaR > r_start) & (deltaR < r_end)\n",
    "    rho_values = ak.sum(tracks.pt[ring], axis=1)/(dr*jet.pt)\n",
    "    return rho_values\n",
    "\n",
    "%lprun -f rho rho(0, suepJets, tracks_final, deltaR)"
   ]
  },
  {
   "cell_type": "code",
   "execution_count": null,
   "id": "ab3b9d71",
   "metadata": {},
   "outputs": [],
   "source": []
  }
 ],
 "metadata": {
  "kernelspec": {
   "display_name": "Python 3 (ipykernel)",
   "language": "python",
   "name": "python3"
  },
  "language_info": {
   "codemirror_mode": {
    "name": "ipython",
    "version": 3
   },
   "file_extension": ".py",
   "mimetype": "text/x-python",
   "name": "python",
   "nbconvert_exporter": "python",
   "pygments_lexer": "ipython3",
   "version": "3.9.5"
  }
 },
 "nbformat": 4,
 "nbformat_minor": 5
}
