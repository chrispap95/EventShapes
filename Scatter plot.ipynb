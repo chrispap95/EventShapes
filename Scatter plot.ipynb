{
 "cells": [
  {
   "cell_type": "code",
   "execution_count": 1,
   "id": "6722a114",
   "metadata": {},
   "outputs": [
    {
     "name": "stdout",
     "output_type": "stream",
     "text": [
      "/Users/chrispap/Documents/EventShapes/env.nosync/bin/python\n",
      "3.9.5\n"
     ]
    }
   ],
   "source": [
    "from platform import python_version\n",
    "import sys\n",
    "\n",
    "print(sys.executable)\n",
    "print(python_version())"
   ]
  },
  {
   "cell_type": "code",
   "execution_count": 2,
   "id": "467d6fb0",
   "metadata": {},
   "outputs": [],
   "source": [
    "import numpy as np\n",
    "import awkward as ak\n",
    "import uproot\n",
    "from coffea.nanoevents import NanoEventsFactory, TreeMakerSchema, BaseSchema\n",
    "from coffea import hist, processor\n",
    "from coffea.nanoevents.methods import candidate\n",
    "import matplotlib.pyplot as plt\n",
    "import mplhep\n",
    "\n",
    "plt.style.use(mplhep.style.ROOT)\n",
    "ak.behavior.update(candidate.behavior)"
   ]
  },
  {
   "cell_type": "markdown",
   "id": "f8e555f6",
   "metadata": {},
   "source": [
    "Define processor"
   ]
  },
  {
   "cell_type": "code",
   "execution_count": 9,
   "id": "1c32c931",
   "metadata": {},
   "outputs": [],
   "source": [
    "def sphericityTensor(particles):\n",
    "    norm = ak.sum(np.sqrt(particles.x * particles.x + particles.y * particles.y + particles.z * particles.z), axis=1)\n",
    "    s = np.array([[\n",
    "                   ak.sum(particles.x * particles.x, axis=1)/norm,\n",
    "                   ak.sum(particles.x * particles.y, axis=1)/norm,\n",
    "                   ak.sum(particles.x * particles.z, axis=1)/norm\n",
    "                  ],\n",
    "                  [\n",
    "                   ak.sum(particles.y * particles.x, axis=1)/norm,\n",
    "                   ak.sum(particles.y * particles.y, axis=1)/norm,\n",
    "                   ak.sum(particles.y * particles.z, axis=1)/norm\n",
    "                  ],\n",
    "                  [\n",
    "                   ak.sum(particles.z * particles.x, axis=1)/norm,\n",
    "                   ak.sum(particles.z * particles.y, axis=1)/norm,\n",
    "                   ak.sum(particles.z * particles.z, axis=1)/norm\n",
    "                  ]])\n",
    "        \n",
    "    return s\n",
    "\n",
    "def sphericity(s):\n",
    "    np.nan_to_num(s)\n",
    "    s_eigvalues = np.linalg.eigvals(np.moveaxis(s, 2, 0))\n",
    "    sphericity = 1.5*(s_eigvalues[:,1]+s_eigvalues[:,2])\n",
    "    return sphericity"
   ]
  },
  {
   "cell_type": "code",
   "execution_count": 4,
   "id": "6cd34754",
   "metadata": {},
   "outputs": [],
   "source": [
    "class TreeMakerProcessor(processor.ProcessorABC):\n",
    "    def __init__(self):\n",
    "        self._accumulator = processor.dict_accumulator({\n",
    "            \"sumw\": processor.defaultdict_accumulator(float),\n",
    "            \"hist\": hist.Hist(\n",
    "                \"Events\",\n",
    "                hist.Cat(\"dataset\", \"Dataset\"),\n",
    "                hist.Bin(\"nTracks\", \"multiplicity\", 50, 0, 250),\n",
    "                hist.Bin(\"sph\", \"sphericity\", 50, 0, 1),\n",
    "            ),\n",
    "        })\n",
    "\n",
    "    @property\n",
    "    def accumulator(self):\n",
    "        return self._accumulator\n",
    "\n",
    "    def process(self, events):\n",
    "        output = self.accumulator.identity()\n",
    "\n",
    "        dataset = events.metadata['dataset']\n",
    "\n",
    "        integratedLuminosity = 137.19*1000 # fb^{-1} to pb^{-1}\n",
    "        \n",
    "        ht = events.HT\n",
    "        weights = integratedLuminosity*events.CrossSection[ht > 1200]/len(events)\n",
    "        tracks = events.Tracks\n",
    "        tracks_pt = np.sqrt(tracks.x**2 + tracks.y**2)\n",
    "        tracks_eta = np.arcsinh(tracks.z / tracks_pt)\n",
    "        finalTracks = (tracks_pt > 1) & (abs(tracks_eta) < 2.5) & (tracks.fromPV0 >= 2) & tracks.matchedToPFCandidate\n",
    "        nTracks = ak.sum(finalTracks[ht > 1200], axis=1)\n",
    "        sTensor = sphericityTensor(tracks[finalTracks][ht > 1200])\n",
    "        sph = sphericity(sTensor)\n",
    "\n",
    "        output[\"sumw\"][dataset] += len(events)\n",
    "        output[\"hist\"].fill(\n",
    "            dataset=dataset,\n",
    "            nTracks=nTracks,\n",
    "            sph=sph,\n",
    "            weight=weights\n",
    "        )\n",
    "\n",
    "        return output\n",
    "\n",
    "    def postprocess(self, accumulator):\n",
    "        return accumulator"
   ]
  },
  {
   "cell_type": "code",
   "execution_count": 21,
   "id": "8cfe7d76",
   "metadata": {},
   "outputs": [
    {
     "data": {
      "application/vnd.jupyter.widget-view+json": {
       "model_id": "a4a8cdf64cdd4c9e994e1d73ff6237f8",
       "version_major": 2,
       "version_minor": 0
      },
      "text/plain": [
       "Preprocessing:   0%|          | 0/1 [00:00<?, ?file/s]"
      ]
     },
     "metadata": {},
     "output_type": "display_data"
    },
    {
     "data": {
      "application/vnd.jupyter.widget-view+json": {
       "model_id": "be8cad240c7f451f98a1c4a2f2b33ce0",
       "version_major": 2,
       "version_minor": 0
      },
      "text/plain": [
       "Processing:   0%|          | 0/4 [00:00<?, ?chunk/s]"
      ]
     },
     "metadata": {},
     "output_type": "display_data"
    },
    {
     "data": {
      "text/plain": [
       "{'sumw': defaultdict_accumulator(float, {'CMSSW': 200000.0}),\n",
       " 'hist': <Hist (dataset,nTracks,sph) instance at 0x12eec94c0>}"
      ]
     },
     "execution_count": 21,
     "metadata": {},
     "output_type": "execute_result"
    }
   ],
   "source": [
    "tmFileset = {\n",
    "    'CMSSW': [\n",
    "        '/Users/chrispap/QCD/ak15/QCD/Autumn18.QCD_HT1000to1500_TuneCP5_13TeV-madgraphMLM-pythia8_0_RA2AnalysisTree.root',\n",
    "        '/Users/chrispap/QCD/ak15/QCD/Autumn18.QCD_HT1000to1500_TuneCP5_13TeV-madgraphMLM-pythia8_1_RA2AnalysisTree.root',\n",
    "        '/Users/chrispap/QCD/ak15/QCD/Autumn18.QCD_HT1000to1500_TuneCP5_13TeV-madgraphMLM-pythia8_2_RA2AnalysisTree.root',\n",
    "        '/Users/chrispap/QCD/ak15/QCD/Autumn18.QCD_HT1000to1500_TuneCP5_13TeV-madgraphMLM-pythia8_3_RA2AnalysisTree.root',\n",
    "#        '/Users/chrispap/QCD/ak15/QCD/Autumn18.QCD_HT1000to1500_TuneCP5_13TeV-madgraphMLM-pythia8_4_RA2AnalysisTree.root',\n",
    "#        '/Users/chrispap/QCD/ak15/QCD/Autumn18.QCD_HT1500to2000_TuneCP5_13TeV-madgraphMLM-pythia8_0_RA2AnalysisTree.root',\n",
    "#        '/Users/chrispap/QCD/ak15/QCD/Autumn18.QCD_HT1500to2000_TuneCP5_13TeV-madgraphMLM-pythia8_1_RA2AnalysisTree.root',\n",
    "#        '/Users/chrispap/QCD/ak15/QCD/Autumn18.QCD_HT1500to2000_TuneCP5_13TeV-madgraphMLM-pythia8_2_RA2AnalysisTree.root',\n",
    "#        '/Users/chrispap/QCD/ak15/QCD/Autumn18.QCD_HT1500to2000_TuneCP5_13TeV-madgraphMLM-pythia8_3_RA2AnalysisTree.root',\n",
    "#        '/Users/chrispap/QCD/ak15/QCD/Autumn18.QCD_HT1500to2000_TuneCP5_13TeV-madgraphMLM-pythia8_4_RA2AnalysisTree.root',\n",
    "#        '/Users/chrispap/QCD/ak15/QCD/Autumn18.QCD_HT2000toInf_TuneCP5_13TeV-madgraphMLM-pythia8_0_RA2AnalysisTree.root',\n",
    "#        '/Users/chrispap/QCD/ak15/QCD/Autumn18.QCD_HT2000toInf_TuneCP5_13TeV-madgraphMLM-pythia8_1_RA2AnalysisTree.root',\n",
    "#        '/Users/chrispap/QCD/ak15/QCD/Autumn18.QCD_HT2000toInf_TuneCP5_13TeV-madgraphMLM-pythia8_2_RA2AnalysisTree.root',\n",
    "#        '/Users/chrispap/QCD/ak15/QCD/Autumn18.QCD_HT2000toInf_TuneCP5_13TeV-madgraphMLM-pythia8_3_RA2AnalysisTree.root',\n",
    "#        '/Users/chrispap/QCD/ak15/QCD/Autumn18.QCD_HT2000toInf_TuneCP5_13TeV-madgraphMLM-pythia8_4_RA2AnalysisTree.root',\n",
    "    ],\n",
    "}\n",
    "\n",
    "tmOut = processor.run_uproot_job(\n",
    "    tmFileset,\n",
    "    treename=\"TreeMaker2/PreSelection\",\n",
    "    processor_instance=TreeMakerProcessor(),\n",
    "    executor=processor.futures_executor,\n",
    "    executor_args={\n",
    "        \"schema\": TreeMakerSchema,\n",
    "        \"workers\": 4\n",
    "    },\n",
    "    chunksize=50000\n",
    ")\n",
    "tmOut"
   ]
  },
  {
   "cell_type": "code",
   "execution_count": 22,
   "id": "693163ab",
   "metadata": {},
   "outputs": [],
   "source": [
    "histo = tmOut['hist'].integrate('dataset', 'CMSSW')"
   ]
  },
  {
   "cell_type": "code",
   "execution_count": 23,
   "id": "adc7a80d",
   "metadata": {},
   "outputs": [
    {
     "data": {
      "text/plain": [
       "<Hist (nTracks,sph) instance at 0x12ed53cd0>"
      ]
     },
     "execution_count": 23,
     "metadata": {},
     "output_type": "execute_result"
    }
   ],
   "source": [
    "histo"
   ]
  },
  {
   "cell_type": "code",
   "execution_count": 24,
   "id": "bb72eebf",
   "metadata": {},
   "outputs": [
    {
     "data": {
      "text/plain": [
       "<AxesSubplot:xlabel='multiplicity', ylabel='Events'>"
      ]
     },
     "execution_count": 24,
     "metadata": {},
     "output_type": "execute_result"
    },
    {
     "data": {
      "image/png": "[encoded data removed]",
      "text/plain": [
       "<Figure size 720x720 with 1 Axes>"
      ]
     },
     "metadata": {
      "needs_background": "light"
     },
     "output_type": "display_data"
    }
   ],
   "source": [
    "hist.plot1d(histo.sum('sph'))"
   ]
  },
  {
   "cell_type": "code",
   "execution_count": null,
   "id": "6b0c04ee",
   "metadata": {},
   "outputs": [],
   "source": []
  }
 ],
 "metadata": {
  "kernelspec": {
   "display_name": "Python 3",
   "language": "python",
   "name": "python3"
  },
  "language_info": {
   "codemirror_mode": {
    "name": "ipython",
    "version": 3
   },
   "file_extension": ".py",
   "mimetype": "text/x-python",
   "name": "python",
   "nbconvert_exporter": "python",
   "pygments_lexer": "ipython3",
   "version": "3.9.5"
  }
 },
 "nbformat": 4,
 "nbformat_minor": 5
}
