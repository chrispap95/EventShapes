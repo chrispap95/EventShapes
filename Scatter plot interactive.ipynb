{
 "cells": [
  {
   "cell_type": "code",
   "execution_count": 5,
   "id": "ef29e675",
   "metadata": {},
   "outputs": [
    {
     "name": "stdout",
     "output_type": "stream",
     "text": [
      "/Users/chrispap/Documents/EventShapes/env.nosync/bin/python\n",
      "3.9.5\n"
     ]
    }
   ],
   "source": [
    "from platform import python_version\n",
    "import sys\n",
    "\n",
    "print(sys.executable)\n",
    "print(python_version())"
   ]
  },
  {
   "cell_type": "code",
   "execution_count": 6,
   "id": "4c4eaeb6",
   "metadata": {},
   "outputs": [],
   "source": [
    "import numpy as np\n",
    "import awkward as ak\n",
    "import uproot\n",
    "from coffea.nanoevents import NanoEventsFactory, TreeMakerSchema, BaseSchema\n",
    "from coffea import hist, processor\n",
    "from coffea.nanoevents.methods import candidate\n",
    "import matplotlib.pyplot as plt\n",
    "import mplhep\n",
    "\n",
    "plt.style.use(mplhep.style.ROOT)\n",
    "ak.behavior.update(candidate.behavior)"
   ]
  },
  {
   "cell_type": "markdown",
   "id": "4359fd07",
   "metadata": {},
   "source": []
  },
  {
   "cell_type": "code",
   "execution_count": 7,
   "id": "25c54ddf",
   "metadata": {},
   "outputs": [],
   "source": [
    "def sphericityTensor(particles):\n",
    "    particles_p = np.sqrt(particles.x * particles.x + particles.y * particles.y + particles.z * particles.z)\n",
    "    norm = ak.sum(particles_p * particles_p, axis=1)\n",
    "    s = np.array([[\n",
    "                   ak.sum(particles.x * particles.x, axis=1)/norm,\n",
    "                   ak.sum(particles.x * particles.y, axis=1)/norm,\n",
    "                   ak.sum(particles.x * particles.z, axis=1)/norm\n",
    "                  ],\n",
    "                  [\n",
    "                   ak.sum(particles.y * particles.x, axis=1)/norm,\n",
    "                   ak.sum(particles.y * particles.y, axis=1)/norm,\n",
    "                   ak.sum(particles.y * particles.z, axis=1)/norm\n",
    "                  ],\n",
    "                  [\n",
    "                   ak.sum(particles.z * particles.x, axis=1)/norm,\n",
    "                   ak.sum(particles.z * particles.y, axis=1)/norm,\n",
    "                   ak.sum(particles.z * particles.z, axis=1)/norm\n",
    "                  ]])\n",
    "        \n",
    "    return s\n",
    "\n",
    "def sphericity(s):\n",
    "    #np.nan_to_num(s)\n",
    "    s_eigvalues = np.linalg.eigvals(np.moveaxis(s, 2, 0))\n",
    "    sphericity = 1.5*(s_eigvalues[:,1]+s_eigvalues[:,2])\n",
    "    return sphericity"
   ]
  },
  {
   "cell_type": "code",
   "execution_count": 10,
   "id": "1d4b615e",
   "metadata": {},
   "outputs": [],
   "source": [
    "fname = '/Users/chrispap/QCD/ak15/QCD/Autumn18.QCD_HT1000to1500_TuneCP5_13TeV-madgraphMLM-pythia8_0_RA2AnalysisTree.root'\n",
    "events = NanoEventsFactory.from_root(fname, treepath='TreeMaker2/PreSelection', schemaclass=TreeMakerSchema, entry_stop=1000).events()\n",
    "\n",
    "histo = hist.Hist(\"Events\",\n",
    "          hist.Bin(\"nTracks\", \"multiplicity\", 50, 0, 250),\n",
    "          hist.Bin(\"sph\", \"sphericity\", 50, 0, 1),\n",
    "         )\n",
    "\n",
    "integratedLuminosity = 137.19*1000 # fb^{-1} to pb^{-1}\n",
    "        \n",
    "ht = events.HT\n",
    "weights = integratedLuminosity*events.CrossSection[ht > 1200]/len(events)\n",
    "tracks = events.Tracks\n",
    "tracks_pt = np.sqrt(tracks.x**2 + tracks.y**2)\n",
    "tracks_eta = np.arcsinh(tracks.z / tracks_pt)\n",
    "finalTracks = (tracks_pt > 1) & (abs(tracks_eta) < 2.5) & (tracks.fromPV0 >= 2) & tracks.matchedToPFCandidate\n",
    "nTracks = ak.sum(finalTracks[ht > 1200], axis=1)\n",
    "sTensor = sphericityTensor(tracks[finalTracks][ht > 1200])\n",
    "sph = sphericity(sTensor)\n",
    "\n",
    "histo.fill(\n",
    "    nTracks=nTracks,\n",
    "    sph=sph,\n",
    "    weight=weights\n",
    ")"
   ]
  },
  {
   "cell_type": "code",
   "execution_count": 11,
   "id": "991d725c",
   "metadata": {},
   "outputs": [
    {
     "data": {
      "text/plain": [
       "<Array [37, 69, 76, 51, 67, ... 73, 68, 80, 45] type='282 * int64'>"
      ]
     },
     "execution_count": 11,
     "metadata": {},
     "output_type": "execute_result"
    }
   ],
   "source": [
    "nTracks"
   ]
  },
  {
   "cell_type": "code",
   "execution_count": 12,
   "id": "6b717598",
   "metadata": {},
   "outputs": [
    {
     "data": {
      "text/plain": [
       "array([4.95290815e-02, 3.67008257e-01, 2.56385742e-01, 4.13174721e-01,\n",
       "       5.97208034e-02, 8.25874883e-02, 5.88551096e-01, 3.71516542e-03,\n",
       "       1.62790887e-01, 6.56628779e-02, 1.48860517e+00, 1.44726659e+00,\n",
       "       1.39000639e+00, 1.12426805e-01, 1.55684329e-01, 7.20464082e-02,\n",
       "       1.09463032e-01, 1.31065902e-01, 5.18767631e-02, 3.99039193e-02,\n",
       "       1.46518660e+00, 9.44926571e-02, 1.49959049e+00, 1.48246799e+00,\n",
       "       1.22146227e-01, 2.12699095e-02, 1.11535353e-01, 2.08969337e-01,\n",
       "       1.46402704e-02, 1.09254579e-01, 3.46201579e-01, 7.32774414e-02,\n",
       "       3.60551415e-01, 3.16811415e-01, 1.49620131e+00, 3.31310970e-01,\n",
       "       2.75749682e-01, 1.49796914e+00, 2.04553615e-01, 3.36892511e-01,\n",
       "       5.51779018e-02, 2.75444298e-01, 1.41644342e+00, 1.19723202e-01,\n",
       "       1.54676318e-01, 1.44585905e+00, 3.03400440e-01, 7.37257327e-02,\n",
       "       6.80978072e-02, 1.47680676e+00, 3.43315126e-01, 2.32193220e-01,\n",
       "       1.48191077e-01, 1.31768998e-02, 8.04385230e-04, 3.59823633e-01,\n",
       "       7.13819670e-03, 1.13616493e+00, 3.10066836e-01, 1.44277430e-01,\n",
       "       1.30415031e-01, 9.71762145e-02, 2.68117134e-01, 3.60150190e-02,\n",
       "       1.86934807e-02, 2.07979420e-01, 3.51819410e-01, 1.49888259e+00,\n",
       "       1.70215843e-01, 1.49407506e+00, 8.17944885e-02, 1.89879805e-01,\n",
       "       1.45728169e+00, 6.85865340e-02, 1.46458874e-01, 7.53715852e-02,\n",
       "       1.68884362e-01, 1.84037956e-01, 1.40596377e+00, 1.02618012e-01,\n",
       "       8.88033504e-02, 2.00231411e-01, 4.32900617e-01, 2.11200204e-01,\n",
       "       1.10007891e-01, 1.25666120e-02, 1.26335218e-01, 2.23882566e-02,\n",
       "       1.45834347e-01, 8.18506738e-02, 1.44245016e+00, 1.25062337e-01,\n",
       "       1.32987544e+00, 3.15166273e-01, 1.19770866e-02, 1.32422130e-01,\n",
       "       3.52972718e-01, 5.96940109e-03, 1.15509383e-01, 9.09845181e-02,\n",
       "       3.52135206e-01, 2.33074826e-01, 3.64857790e-02, 5.99450417e-02,\n",
       "       2.20814640e-01, 1.19618773e-01, 4.44774380e-01, 1.60461634e-01,\n",
       "       6.93565671e-02, 1.47866193e+00, 8.64007375e-02, 5.31851910e-02,\n",
       "       7.82078642e-02, 4.75127338e-01, 3.16000371e-03, 1.49661016e+00,\n",
       "       1.47768936e-01, 1.34411612e+00, 4.91254321e-01, 4.68622698e-01,\n",
       "       2.60611361e-02, 1.76905835e-01, 2.24476926e-01, 1.95721848e-01,\n",
       "       4.53298141e-01, 1.80506763e-01, 1.46767087e+00, 3.29410857e-01,\n",
       "       1.72675526e-02, 4.86581688e-01, 1.42719646e-01, 3.56842887e-01,\n",
       "       5.71712329e-02, 2.36290256e-01, 3.45114510e-02, 3.56628959e-02,\n",
       "       2.57175219e-02, 8.27229467e-02, 2.74250127e-02, 1.13945125e-01,\n",
       "       1.47526193e+00, 1.04303680e-01, 2.77641206e-02, 1.49869402e+00,\n",
       "       1.92117997e-01, 1.88658485e-01, 1.48948757e+00, 3.63942623e-02,\n",
       "       2.80572627e-01, 2.49165106e-01, 4.26836255e-01, 4.74647019e-01,\n",
       "       1.29978901e-01, 7.10125245e-02, 5.37960752e-01, 5.48431560e-02,\n",
       "       1.29436603e-01, 2.73367758e-01, 2.22660295e-01, 5.19974212e-02,\n",
       "       5.11023441e-01, 1.37460833e+00, 3.13044648e-01, 2.18655260e-01,\n",
       "       1.44835398e+00, 5.11388633e-02, 2.07605980e-02, 8.85373200e-02,\n",
       "       6.35049720e-02, 1.49504115e+00, 3.09334181e-01, 1.47983555e-02,\n",
       "       6.35233103e-01, 1.54866897e-01, 1.49712188e+00, 4.30706964e-01,\n",
       "       3.62269964e-01, 1.83800656e-02, 1.09785974e-03, 2.54766680e-01,\n",
       "       5.86728029e-01, 6.99214639e-02, 3.79450808e-01, 1.73737835e-01,\n",
       "       5.45753123e-01, 2.50765919e-01, 7.35519339e-02, 1.15803566e-01,\n",
       "       1.52564069e-01, 3.75624076e-01, 2.69587170e-01, 2.78318905e-01,\n",
       "       1.88471154e-01, 1.94194812e-02, 1.46394536e+00, 2.48388954e-01,\n",
       "       1.95820010e-01, 1.49010519e+00, 2.87849616e-01, 2.35622894e-02,\n",
       "       1.08013684e-01, 1.76378805e-01, 4.18609482e-01, 1.05317730e-01,\n",
       "       6.60493539e-02, 5.09769849e-02, 3.96099874e-01, 1.10809629e-01,\n",
       "       1.30546415e-01, 2.97507244e-01, 3.79606118e-01, 1.49983178e-02,\n",
       "       1.46705931e+00, 7.02188752e-03, 2.51410789e-01, 2.65072813e-02,\n",
       "       6.85272870e-02, 1.46525838e-01, 6.74203329e-02, 4.14475617e-01,\n",
       "       1.05215562e-01, 2.68237376e-03, 1.34330972e-01, 2.54431879e-01,\n",
       "       5.48259232e-02, 1.49178797e+00, 1.74530522e-02, 7.99427960e-02,\n",
       "       1.46128817e-01, 1.62834895e-01, 1.54110600e-01, 3.50133811e-02,\n",
       "       5.33826084e-03, 3.65134141e-02, 8.98578531e-02, 5.59993217e-01,\n",
       "       7.51967669e-02, 3.24483648e-01, 2.61768441e-01, 1.45312762e+00,\n",
       "       1.49545634e+00, 8.93536556e-02, 2.83986446e-01, 1.10869690e-01,\n",
       "       1.99028200e-01, 4.50302086e-01, 4.82342654e-02, 2.06702471e-01,\n",
       "       3.00039816e-01, 1.14476417e-02, 3.76707998e-01, 1.83995124e-01,\n",
       "       2.97317208e-01, 1.30624370e-01, 2.06219506e-01, 1.01571054e-01,\n",
       "       4.73771830e-01, 8.76655769e-02, 8.77128897e-02, 2.82164456e-01,\n",
       "       1.49920094e+00, 8.08503959e-02, 3.03956435e-01, 1.35452124e-01,\n",
       "       1.29649919e-01, 3.75934893e-02, 1.42609359e+00, 1.68570920e-02,\n",
       "       4.39809832e-01, 2.10012714e-02, 1.49942869e+00, 1.89163256e-02,\n",
       "       1.13978213e-02, 8.48787780e-02, 3.22177161e-01, 8.41312721e-02,\n",
       "       5.49430019e-01, 1.04320669e-01, 7.50183531e-02, 2.19462719e-01,\n",
       "       2.58856309e-02, 3.22332471e-01])"
      ]
     },
     "execution_count": 12,
     "metadata": {},
     "output_type": "execute_result"
    }
   ],
   "source": [
    "sph"
   ]
  },
  {
   "cell_type": "code",
   "execution_count": null,
   "id": "4cb0eea2",
   "metadata": {},
   "outputs": [],
   "source": []
  }
 ],
 "metadata": {
  "kernelspec": {
   "display_name": "Python 3",
   "language": "python",
   "name": "python3"
  },
  "language_info": {
   "codemirror_mode": {
    "name": "ipython",
    "version": 3
   },
   "file_extension": ".py",
   "mimetype": "text/x-python",
   "name": "python",
   "nbconvert_exporter": "python",
   "pygments_lexer": "ipython3",
   "version": "3.9.5"
  }
 },
 "nbformat": 4,
 "nbformat_minor": 5
}
