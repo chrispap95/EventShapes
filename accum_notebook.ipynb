{
 "cells": [
  {
   "cell_type": "markdown",
   "metadata": {},
   "source": [
    "# Plot standalone Pythia production\n",
    "\n",
    "First define an accumulator."
   ]
  },
  {
   "cell_type": "code",
   "execution_count": null,
   "metadata": {},
   "outputs": [],
   "source": [
    "%%bash\n",
    "for i in `seq 1 5`;\n",
    "do \n",
    "    xrdcp -f root://cmseos.fnal.gov//store/user/chpapage/pythiaGen/qcd_CP${i}.root .;\n",
    "    xrdcp -f root://cmseos.fnal.gov//store/user/chpapage/pythiaGen/qcd_CP${i}_down.root .;\n",
    "    xrdcp -f root://cmseos.fnal.gov//store/user/chpapage/pythiaGen/qcd_CP${i}_up.root .;\n",
    "done"
   ]
  },
  {
   "cell_type": "code",
   "execution_count": null,
   "metadata": {},
   "outputs": [],
   "source": [
    "import awkward as ak\n",
    "from coffea import hist, processor\n",
    "from coffea.nanoevents.methods import candidate\n",
    "\n",
    "ak.behavior.update(candidate.behavior)\n",
    "\n",
    "class MyProcessor(processor.ProcessorABC):\n",
    "    def __init__(self):\n",
    "        self._accumulator = processor.dict_accumulator({\n",
    "            \"sumw\": processor.defaultdict_accumulator(float),\n",
    "            \"nTracks\": hist.Hist(\n",
    "                \"Events\",\n",
    "                hist.Cat(\"dataset\", \"Dataset\"),\n",
    "                hist.Bin(\"nTracks\", \"multiplicity\", 50, 0, 250),\n",
    "            ),\n",
    "        })\n",
    "\n",
    "    @property\n",
    "    def accumulator(self):\n",
    "        return self._accumulator\n",
    "\n",
    "    def process(self, events):\n",
    "        output = self.accumulator.identity()\n",
    "\n",
    "        dataset = events.metadata['dataset']\n",
    "\n",
    "        nTracks = events.nTracks\n",
    "\n",
    "        output[\"sumw\"][dataset] += len(events)\n",
    "        output[\"nTracks\"].fill(\n",
    "            dataset=dataset,\n",
    "            nTracks=nTracks,\n",
    "        )\n",
    "\n",
    "        return output\n",
    "\n",
    "    def postprocess(self, accumulator):\n",
    "        return accumulator"
   ]
  },
  {
   "cell_type": "markdown",
   "metadata": {},
   "source": [
    "Now, use this to run over a file."
   ]
  },
  {
   "cell_type": "code",
   "execution_count": null,
   "metadata": {},
   "outputs": [],
   "source": [
    "import uproot\n",
    "from coffea.nanoevents import NanoEventsFactory, BaseSchema\n",
    "\n",
    "uproot.open.defaults[\"xrootd_handler\"] = uproot.source.xrootd.MultithreadedXRootDSource\n",
    "\n",
    "filename = \"qcd_CUETP8M1.root\"\n",
    "file = uproot.open(filename)\n",
    "events = NanoEventsFactory.from_root(\n",
    "    file,\n",
    "    treepath='tree',\n",
    "    entry_stop=100000,\n",
    "    metadata={\"dataset\": \"CUETP8M1\"},\n",
    "    schemaclass=BaseSchema,\n",
    ").events()\n",
    "p = MyProcessor()\n",
    "out = p.process(events)\n",
    "out"
   ]
  },
  {
   "cell_type": "markdown",
   "metadata": {},
   "source": [
    "Plot the histogram."
   ]
  },
  {
   "cell_type": "code",
   "execution_count": null,
   "metadata": {},
   "outputs": [],
   "source": [
    "import matplotlib.pyplot as plt\n",
    "import mplhep\n",
    "plt.style.use(mplhep.style.ROOT)\n",
    "\n",
    "ax = plt.gca()\n",
    "\n",
    "hist.plot1d(\n",
    "    out['nTracks'],\n",
    "    ax=ax,\n",
    "    overlay='dataset',\n",
    ")\n",
    "ax.autoscale(axis='x', tight=True)\n",
    "ax.set_ylim(1, None)\n",
    "ax.set_yscale('log')"
   ]
  },
  {
   "cell_type": "markdown",
   "metadata": {},
   "source": [
    "Move to executors."
   ]
  },
  {
   "cell_type": "code",
   "execution_count": null,
   "metadata": {},
   "outputs": [],
   "source": [
    "fileset = {\n",
    "    'CUETPM81': [\n",
    "        'qcd_CUETP8M1.root',\n",
    "    ],\n",
    "    'CUETPM81 up': [\n",
    "        'qcd_CUETP8M1_up.root',\n",
    "    ],\n",
    "    'CUETPM81 down': [\n",
    "        'qcd_CUETP8M1_down.root',\n",
    "    ]\n",
    "\n",
    "}\n",
    "\n",
    "out = processor.run_uproot_job(\n",
    "    fileset,\n",
    "    treename=\"tree\",\n",
    "    processor_instance=MyProcessor(),\n",
    "    executor=processor.iterative_executor,\n",
    "    executor_args={\n",
    "        \"schema\": BaseSchema,\n",
    "    },\n",
    "    #maxchunks=4,\n",
    ")\n",
    "out"
   ]
  },
  {
   "cell_type": "code",
   "execution_count": null,
   "metadata": {},
   "outputs": [],
   "source": [
    "ax2 = plt.gca()\n",
    "ax2.autoscale(axis='x', tight=True)\n",
    "\n",
    "\n",
    "hist.plot1d(\n",
    "    out['nTracks'],\n",
    "    ax=ax2,\n",
    "    overlay='dataset',\n",
    "    density=True\n",
    ")\n",
    "ax2.set_ylim(1e-5, None)\n",
    "ax2.set_yscale('log')\n"
   ]
  },
  {
   "cell_type": "code",
   "execution_count": null,
   "metadata": {},
   "outputs": [],
   "source": [
    "fileset = {\n",
    "    'CP1': [\n",
    "        'qcd_CP1.root',\n",
    "    ],\n",
    "    'CP2': [\n",
    "        'qcd_CP2.root',\n",
    "    ],\n",
    "    'CP3': [\n",
    "        'qcd_CP3.root',\n",
    "    ],\n",
    "    'CP4': [\n",
    "        'qcd_CP4.root',\n",
    "    ],\n",
    "    'CP5': [\n",
    "        'qcd_CP5.root',\n",
    "    ],\n",
    "    'high': [\n",
    "        'qcd_high.root',\n",
    "    ],\n",
    "}\n",
    "\n",
    "out = processor.run_uproot_job(\n",
    "    fileset,\n",
    "    treename=\"tree\",\n",
    "    processor_instance=MyProcessor(),\n",
    "    executor=processor.iterative_executor,\n",
    "    executor_args={\n",
    "        \"schema\": BaseSchema,\n",
    "    },\n",
    "    #maxchunks=4,\n",
    ")\n",
    "out"
   ]
  },
  {
   "cell_type": "code",
   "execution_count": 8,
   "metadata": {
    "scrolled": true
   },
   "outputs": [
    {
     "data": {
      "image/png": "[encoded data removed]",
      "text/plain": [
       "<Figure size 720x720 with 1 Axes>"
      ]
     },
     "metadata": {
      "needs_background": "light"
     },
     "output_type": "display_data"
    }
   ],
   "source": [
    "ax3 = plt.gca()\n",
    "ax3.autoscale(axis='x', tight=True)\n",
    "\n",
    "hist.plot1d(\n",
    "    out['nTracks'],\n",
    "    ax=ax3,\n",
    "    overlay='dataset',\n",
    "    density=True\n",
    ")\n",
    "ax3.set_ylim(1e-7, None)\n",
    "ax3.set_yscale('log')"
   ]
  },
  {
   "cell_type": "code",
   "execution_count": null,
   "metadata": {},
   "outputs": [],
   "source": []
  }
 ],
 "metadata": {
  "kernelspec": {
   "display_name": "Python 3",
   "language": "python",
   "name": "python3"
  },
  "language_info": {
   "codemirror_mode": {
    "name": "ipython",
    "version": 3
   },
   "file_extension": ".py",
   "mimetype": "text/x-python",
   "name": "python",
   "nbconvert_exporter": "python",
   "pygments_lexer": "ipython3",
   "version": "3.9.5"
  }
 },
 "nbformat": 4,
 "nbformat_minor": 4
}
